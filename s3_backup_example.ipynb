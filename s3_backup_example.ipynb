{
 "cells": [
  {
   "cell_type": "markdown",
   "metadata": {},
   "source": [
    "# Boto3\n",
    "Why would we want to use Boto3?  [One reason](http://boto3.readthedocs.org/en/latest/reference/customizations/s3.html#module-boto3.s3.transfer) is that we can do [multipart uploads](http://boto3.readthedocs.org/en/latest/reference/services/s3.html#multipartupload) automagically.\n",
    "\n",
    "### Setup\n",
    "We may want to read the [introduction](http://boto3.readthedocs.org/en/latest/guide/quickstart.html) to set up creds. Basically, we just need to set up two items:\n",
    "\n",
    "* Credentials  \n",
    "\n",
    "`$ cat ~/.aws/credentials`\n",
    "<pre>\n",
    "    [default]\n",
    "    #gnip creds\n",
    "    aws_access_key_id = < key >\n",
    "    aws_secret_access_key = < secret > \n",
    "\n",
    "    [personal]\n",
    "    # personal blehmanade account creds (optional)\n",
    "    aws_access_key_id = < key > \n",
    "    aws_secret_access_key = < secret > \n",
    "</pre>\n",
    "\n",
    "* Configs\n",
    "\n",
    "`$ cat ~/.aws/config`  \n",
    "\n",
    "<pre>\n",
    "    [default]\n",
    "    # gnip\n",
    "    output=json\n",
    "    region = us-west-1\n",
    "\n",
    "    [profile personal]\n",
    "    # blehmanade (optional)\n",
    "    output = json\n",
    "    region = us-west-2\n",
    "    emr =\n",
    "        service_role = EMR_DefaultRole\n",
    "        instance_profile = EMR_EC2_DefaultRole\n",
    "</pre>"
   ]
  },
  {
   "cell_type": "code",
   "execution_count": null,
   "metadata": {
    "collapsed": false
   },
   "outputs": [],
   "source": [
    "# Set region in the args for resource\n",
    "import boto3\n",
    "s3 = boto3.resource('s3')\n",
    "known_bucket = 'data.science.backup.west'\n",
    "region = s3.meta.client.get_bucket_location(Bucket=known_bucket)['LocationConstraint']\n",
    "print \"Region for {0}: {1}\".format(known_bucket,region)\n",
    "s3 = boto3.resource('s3',region_name=region)"
   ]
  },
  {
   "cell_type": "markdown",
   "metadata": {},
   "source": [
    "### Do `tar` to stuff\n",
    "Grab things that you want to move to S3."
   ]
  },
  {
   "cell_type": "code",
   "execution_count": null,
   "metadata": {
    "collapsed": false
   },
   "outputs": [],
   "source": [
    "!tar -czvf 2015-12-15_ABI-BRANCH_ABInBev-viz.tar.gz ABInBev/viz/"
   ]
  },
  {
   "cell_type": "markdown",
   "metadata": {},
   "source": [
    "### Transfer to S3"
   ]
  },
  {
   "cell_type": "code",
   "execution_count": null,
   "metadata": {
    "collapsed": false
   },
   "outputs": [],
   "source": [
    "fileName = \"2015-12-15_ABI-BRANCH_ABInBev-viz.tar.gz\"\n",
    "\n",
    "# Automatically use the multi part loading for large files without context manager\n",
    "s3.Bucket('data.science.backup.west').upload_file('./'+fileName,'projects2015/blehman/'+fileName)"
   ]
  },
  {
   "cell_type": "markdown",
   "metadata": {},
   "source": [
    "### Transfer from S3"
   ]
  },
  {
   "cell_type": "code",
   "execution_count": null,
   "metadata": {
    "collapsed": false
   },
   "outputs": [],
   "source": [
    "s3.Bucket('data.science.backup.west').download_file('projects2015/blehman/'+fileName,'/Users/blehman/'+fileName)"
   ]
  },
  {
   "cell_type": "code",
   "execution_count": null,
   "metadata": {
    "collapsed": false
   },
   "outputs": [],
   "source": [
    "!mkdir test\n",
    "! tar -xvf /Users/blehman/2015-12-15_ABI-BRANCH_ABInBev-viz.tar.gz -C test/"
   ]
  },
  {
   "cell_type": "code",
   "execution_count": null,
   "metadata": {
    "collapsed": false
   },
   "outputs": [],
   "source": [
    "! ls test/ABInBev/viz/data"
   ]
  },
  {
   "cell_type": "code",
   "execution_count": null,
   "metadata": {
    "collapsed": false
   },
   "outputs": [],
   "source": [
    "#!rm -rf test/"
   ]
  }
 ],
 "metadata": {
  "kernelspec": {
   "display_name": "Python 2",
   "language": "python",
   "name": "python2"
  },
  "language_info": {
   "codemirror_mode": {
    "name": "ipython",
    "version": 2
   },
   "file_extension": ".py",
   "mimetype": "text/x-python",
   "name": "python",
   "nbconvert_exporter": "python",
   "pygments_lexer": "ipython2",
   "version": "2.7.11"
  }
 },
 "nbformat": 4,
 "nbformat_minor": 0
}
